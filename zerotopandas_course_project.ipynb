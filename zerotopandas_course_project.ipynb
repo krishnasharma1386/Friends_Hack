{
  "nbformat": 4,
  "nbformat_minor": 0,
  "metadata": {
    "kernelspec": {
      "display_name": "Python 3",
      "language": "python",
      "name": "python3"
    },
    "language_info": {
      "codemirror_mode": {
        "name": "ipython",
        "version": 3
      },
      "file_extension": ".py",
      "mimetype": "text/x-python",
      "name": "python",
      "nbconvert_exporter": "python",
      "pygments_lexer": "ipython3",
      "version": "3.8.5"
    },
    "colab": {
      "name": "zerotopandas-course-project.ipynb",
      "provenance": [],
      "include_colab_link": true
    }
  },
  "cells": [
    {
      "cell_type": "markdown",
      "metadata": {
        "id": "view-in-github",
        "colab_type": "text"
      },
      "source": [
        "<a href=\"https://colab.research.google.com/github/krishnasharma1386/Friends_Hack/blob/main/zerotopandas_course_project.ipynb\" target=\"_parent\"><img src=\"https://colab.research.google.com/assets/colab-badge.svg\" alt=\"Open In Colab\"/></a>"
      ]
    },
    {
      "cell_type": "code",
      "metadata": {
        "id": "sSj30e87QNbG"
      },
      "source": [
        "# Jovian Commit Essentials\n",
        "# Please retain and execute this cell without modifying the contents for `jovian.commit` to work\n",
        "!pip install jovian --upgrade -q\n",
        "import jovian\n",
        "jovian.utils.colab.set_colab_file_id('1vttuDReodYVryJc0-vrX9gOSMFxd3y_b')"
      ],
      "execution_count": null,
      "outputs": []
    },
    {
      "cell_type": "markdown",
      "metadata": {
        "id": "Hn92Iag2QNbK"
      },
      "source": [
        "# India-air-quality\n",
        "\n",
        "***This analysis includes the air quality index of various cities in India over the years.[Data Analysis with Python: Zero to Pandas](zerotopandas.com).***"
      ]
    },
    {
      "cell_type": "markdown",
      "metadata": {
        "id": "UYi-6XFwQNbL"
      },
      "source": [
        "## Downloading the Dataset\n",
        "\n",
        "**TODO** - add some explanation here"
      ]
    },
    {
      "cell_type": "markdown",
      "metadata": {
        "id": "6e0SwgXiQNbL"
      },
      "source": [
        "> Instructions for downloading the dataset (delete this cell)\n",
        ">\n",
        "> - Find an interesting dataset on this page: https://www.kaggle.com/datasets?fileType=csv\n",
        "> - The data should be in CSV format, and should contain at least 3 columns and 150 rows\n",
        "> - Download the dataset using the [`opendatasets` Python library](https://github.com/JovianML/opendatasets#opendatasets)"
      ]
    },
    {
      "cell_type": "code",
      "metadata": {
        "id": "Je1adv4KQNbM"
      },
      "source": [
        "!pip install jovian opendatasets --upgrade --quiet"
      ],
      "execution_count": null,
      "outputs": []
    },
    {
      "cell_type": "code",
      "metadata": {
        "id": "jiSHImC-QNbP",
        "outputId": "3b26194d-dda9-4699-bbb0-6a20edc21703"
      },
      "source": [
        "!pip install kaggle"
      ],
      "execution_count": null,
      "outputs": [
        {
          "output_type": "stream",
          "text": [
            "Requirement already satisfied: kaggle in /srv/conda/envs/notebook/lib/python3.8/site-packages (1.5.8)\n",
            "Requirement already satisfied: python-slugify in /srv/conda/envs/notebook/lib/python3.8/site-packages (from kaggle) (4.0.1)\n",
            "Requirement already satisfied: tqdm in /srv/conda/envs/notebook/lib/python3.8/site-packages (from kaggle) (4.49.0)\n",
            "Requirement already satisfied: requests in /srv/conda/envs/notebook/lib/python3.8/site-packages (from kaggle) (2.24.0)\n",
            "Requirement already satisfied: slugify in /srv/conda/envs/notebook/lib/python3.8/site-packages (from kaggle) (0.0.1)\n",
            "Requirement already satisfied: urllib3<1.25,>=1.21.1 in /srv/conda/envs/notebook/lib/python3.8/site-packages (from kaggle) (1.24.3)\n",
            "Requirement already satisfied: certifi in /srv/conda/envs/notebook/lib/python3.8/site-packages (from kaggle) (2020.6.20)\n",
            "Requirement already satisfied: six>=1.10 in /srv/conda/envs/notebook/lib/python3.8/site-packages (from kaggle) (1.15.0)\n",
            "Requirement already satisfied: python-dateutil in /srv/conda/envs/notebook/lib/python3.8/site-packages (from kaggle) (2.8.1)\n",
            "Requirement already satisfied: text-unidecode>=1.3 in /srv/conda/envs/notebook/lib/python3.8/site-packages (from python-slugify->kaggle) (1.3)\n",
            "Requirement already satisfied: chardet<4,>=3.0.2 in /srv/conda/envs/notebook/lib/python3.8/site-packages (from requests->kaggle) (3.0.4)\n",
            "Requirement already satisfied: idna<3,>=2.5 in /srv/conda/envs/notebook/lib/python3.8/site-packages (from requests->kaggle) (2.10)\n"
          ],
          "name": "stdout"
        }
      ]
    },
    {
      "cell_type": "markdown",
      "metadata": {
        "id": "7NrK3rhJQNbU"
      },
      "source": [
        "Let's begin by downloading the data, and listing the files within the dataset."
      ]
    },
    {
      "cell_type": "code",
      "metadata": {
        "id": "yrTJVa8GQNbU"
      },
      "source": [
        "# Change this\n",
        "dataset_url = 'https://www.kaggle.com/rohanrao/air-quality-data-in-india' "
      ],
      "execution_count": null,
      "outputs": []
    },
    {
      "cell_type": "code",
      "metadata": {
        "id": "FZr-bQNwQNbX",
        "outputId": "2512c0f5-5204-4f7d-9fd0-bd8777954bdd"
      },
      "source": [
        "import opendatasets as od\n",
        "od.download(dataset_url)"
      ],
      "execution_count": null,
      "outputs": [
        {
          "output_type": "stream",
          "text": [
            "Please provide your Kaggle credentials to download this dataset. Learn more: http://bit.ly/kaggle-creds\n",
            "Your Kaggle username: krishnasharma1386\n",
            "Your Kaggle Key: ········\n"
          ],
          "name": "stdout"
        },
        {
          "output_type": "stream",
          "text": [
            "  5%|▌         | 4.00M/72.9M [00:00<00:02, 34.1MB/s]"
          ],
          "name": "stderr"
        },
        {
          "output_type": "stream",
          "text": [
            "Downloading air-quality-data-in-india.zip to ./air-quality-data-in-india\n"
          ],
          "name": "stdout"
        },
        {
          "output_type": "stream",
          "text": [
            "100%|██████████| 72.9M/72.9M [00:00<00:00, 95.3MB/s]\n"
          ],
          "name": "stderr"
        },
        {
          "output_type": "stream",
          "text": [
            "\n"
          ],
          "name": "stdout"
        }
      ]
    },
    {
      "cell_type": "markdown",
      "metadata": {
        "id": "vPR1e6pdQNba"
      },
      "source": [
        "The dataset has been downloaded and extracted."
      ]
    },
    {
      "cell_type": "code",
      "metadata": {
        "id": "DjbmPb_iQNba"
      },
      "source": [
        "# Change this\n",
        "data_dir = './air-quality-data-in-india'"
      ],
      "execution_count": null,
      "outputs": []
    },
    {
      "cell_type": "code",
      "metadata": {
        "id": "1uV6za0GQNbe",
        "outputId": "739e6c70-cab8-4ac4-a9f2-d2f20701b92c"
      },
      "source": [
        "import os\n",
        "os.listdir(data_dir)"
      ],
      "execution_count": null,
      "outputs": [
        {
          "output_type": "execute_result",
          "data": {
            "text/plain": [
              "['station_hour.csv',\n",
              " 'city_hour.csv',\n",
              " 'stations.csv',\n",
              " 'station_day.csv',\n",
              " 'city_day.csv']"
            ]
          },
          "metadata": {
            "tags": []
          },
          "execution_count": 6
        }
      ]
    },
    {
      "cell_type": "markdown",
      "metadata": {
        "id": "1yBryVL_QNbh"
      },
      "source": [
        "Let us save and upload our work to Jovian before continuing."
      ]
    },
    {
      "cell_type": "code",
      "metadata": {
        "id": "D6GAGIFEQNbi"
      },
      "source": [
        "project_name = \"India-air-quality\" # change this (use lowercase letters and hyphens only)"
      ],
      "execution_count": null,
      "outputs": []
    },
    {
      "cell_type": "code",
      "metadata": {
        "id": "ef09gQCIQNbk"
      },
      "source": [
        "!pip install jovian --upgrade -q"
      ],
      "execution_count": null,
      "outputs": []
    },
    {
      "cell_type": "code",
      "metadata": {
        "id": "PddCvpPRQNbn"
      },
      "source": [
        "import jovian"
      ],
      "execution_count": null,
      "outputs": []
    },
    {
      "cell_type": "code",
      "metadata": {
        "id": "Nf2x-6BXQNbp",
        "outputId": "c1cc6076-0769-4f00-8d2a-770bae4b51ba"
      },
      "source": [
        "jovian.commit(project=project_name)"
      ],
      "execution_count": null,
      "outputs": [
        {
          "output_type": "display_data",
          "data": {
            "application/javascript": [
              "window.require && require([\"base/js/namespace\"],function(Jupyter){Jupyter.notebook.save_checkpoint()})"
            ],
            "text/plain": [
              "<IPython.core.display.Javascript object>"
            ]
          },
          "metadata": {
            "tags": []
          }
        },
        {
          "output_type": "stream",
          "text": [
            "[jovian] Attempting to save notebook..\u001b[0m\n",
            "[jovian] Updating notebook \"krishnasharma1386/india-air-quality\" on https://jovian.ml/\u001b[0m\n",
            "[jovian] Uploading notebook..\u001b[0m\n",
            "[jovian] Capturing environment..\u001b[0m\n",
            "[jovian] Committed successfully! https://jovian.ml/krishnasharma1386/india-air-quality\u001b[0m\n"
          ],
          "name": "stdout"
        },
        {
          "output_type": "execute_result",
          "data": {
            "text/plain": [
              "'https://jovian.ml/krishnasharma1386/india-air-quality'"
            ]
          },
          "metadata": {
            "tags": []
          },
          "execution_count": 10
        }
      ]
    },
    {
      "cell_type": "markdown",
      "metadata": {
        "id": "hc8mTm2kQNbs"
      },
      "source": [
        "## Data Preparation and Cleaning\n",
        "\n",
        "*Here we are importing data as indair_df.*\n",
        "\n",
        "*Then we clone orignial data so orignial data didn't affet.*\n"
      ]
    },
    {
      "cell_type": "markdown",
      "metadata": {
        "id": "nfLhPXjvQNbs"
      },
      "source": [
        "> Instructions (delete this cell):\n",
        ">\n",
        "> - Load the dataset into a data frame using Pandas\n",
        "> - Explore the number of rows & columns, ranges of values etc.\n",
        "> - Handle missing, incorrect and invalid data\n",
        "> - Perform any additional steps (parsing dates, creating additional columns, merging multiple dataset etc.)"
      ]
    },
    {
      "cell_type": "code",
      "metadata": {
        "id": "80hA_ZS-QNbt"
      },
      "source": [
        "import numpy as np\n",
        "import pandas as pd\n",
        "indair_df = pd.read_csv(data_dir + '/city_day.csv')"
      ],
      "execution_count": null,
      "outputs": []
    },
    {
      "cell_type": "code",
      "metadata": {
        "id": "vkYiy1tBQNbx",
        "outputId": "40b72b21-6193-4683-b52a-fe787ac13491"
      },
      "source": [
        "indair_df"
      ],
      "execution_count": null,
      "outputs": [
        {
          "output_type": "execute_result",
          "data": {
            "text/html": [
              "<div>\n",
              "<style scoped>\n",
              "    .dataframe tbody tr th:only-of-type {\n",
              "        vertical-align: middle;\n",
              "    }\n",
              "\n",
              "    .dataframe tbody tr th {\n",
              "        vertical-align: top;\n",
              "    }\n",
              "\n",
              "    .dataframe thead th {\n",
              "        text-align: right;\n",
              "    }\n",
              "</style>\n",
              "<table border=\"1\" class=\"dataframe\">\n",
              "  <thead>\n",
              "    <tr style=\"text-align: right;\">\n",
              "      <th></th>\n",
              "      <th>City</th>\n",
              "      <th>Date</th>\n",
              "      <th>PM2.5</th>\n",
              "      <th>PM10</th>\n",
              "      <th>NO</th>\n",
              "      <th>NO2</th>\n",
              "      <th>NOx</th>\n",
              "      <th>NH3</th>\n",
              "      <th>CO</th>\n",
              "      <th>SO2</th>\n",
              "      <th>O3</th>\n",
              "      <th>Benzene</th>\n",
              "      <th>Toluene</th>\n",
              "      <th>Xylene</th>\n",
              "      <th>AQI</th>\n",
              "      <th>AQI_Bucket</th>\n",
              "    </tr>\n",
              "  </thead>\n",
              "  <tbody>\n",
              "    <tr>\n",
              "      <th>0</th>\n",
              "      <td>Ahmedabad</td>\n",
              "      <td>2015-01-01</td>\n",
              "      <td>NaN</td>\n",
              "      <td>NaN</td>\n",
              "      <td>0.92</td>\n",
              "      <td>18.22</td>\n",
              "      <td>17.15</td>\n",
              "      <td>NaN</td>\n",
              "      <td>0.92</td>\n",
              "      <td>27.64</td>\n",
              "      <td>133.36</td>\n",
              "      <td>0.00</td>\n",
              "      <td>0.02</td>\n",
              "      <td>0.00</td>\n",
              "      <td>NaN</td>\n",
              "      <td>NaN</td>\n",
              "    </tr>\n",
              "    <tr>\n",
              "      <th>1</th>\n",
              "      <td>Ahmedabad</td>\n",
              "      <td>2015-01-02</td>\n",
              "      <td>NaN</td>\n",
              "      <td>NaN</td>\n",
              "      <td>0.97</td>\n",
              "      <td>15.69</td>\n",
              "      <td>16.46</td>\n",
              "      <td>NaN</td>\n",
              "      <td>0.97</td>\n",
              "      <td>24.55</td>\n",
              "      <td>34.06</td>\n",
              "      <td>3.68</td>\n",
              "      <td>5.50</td>\n",
              "      <td>3.77</td>\n",
              "      <td>NaN</td>\n",
              "      <td>NaN</td>\n",
              "    </tr>\n",
              "    <tr>\n",
              "      <th>2</th>\n",
              "      <td>Ahmedabad</td>\n",
              "      <td>2015-01-03</td>\n",
              "      <td>NaN</td>\n",
              "      <td>NaN</td>\n",
              "      <td>17.40</td>\n",
              "      <td>19.30</td>\n",
              "      <td>29.70</td>\n",
              "      <td>NaN</td>\n",
              "      <td>17.40</td>\n",
              "      <td>29.07</td>\n",
              "      <td>30.70</td>\n",
              "      <td>6.80</td>\n",
              "      <td>16.40</td>\n",
              "      <td>2.25</td>\n",
              "      <td>NaN</td>\n",
              "      <td>NaN</td>\n",
              "    </tr>\n",
              "    <tr>\n",
              "      <th>3</th>\n",
              "      <td>Ahmedabad</td>\n",
              "      <td>2015-01-04</td>\n",
              "      <td>NaN</td>\n",
              "      <td>NaN</td>\n",
              "      <td>1.70</td>\n",
              "      <td>18.48</td>\n",
              "      <td>17.97</td>\n",
              "      <td>NaN</td>\n",
              "      <td>1.70</td>\n",
              "      <td>18.59</td>\n",
              "      <td>36.08</td>\n",
              "      <td>4.43</td>\n",
              "      <td>10.14</td>\n",
              "      <td>1.00</td>\n",
              "      <td>NaN</td>\n",
              "      <td>NaN</td>\n",
              "    </tr>\n",
              "    <tr>\n",
              "      <th>4</th>\n",
              "      <td>Ahmedabad</td>\n",
              "      <td>2015-01-05</td>\n",
              "      <td>NaN</td>\n",
              "      <td>NaN</td>\n",
              "      <td>22.10</td>\n",
              "      <td>21.42</td>\n",
              "      <td>37.76</td>\n",
              "      <td>NaN</td>\n",
              "      <td>22.10</td>\n",
              "      <td>39.33</td>\n",
              "      <td>39.31</td>\n",
              "      <td>7.01</td>\n",
              "      <td>18.89</td>\n",
              "      <td>2.78</td>\n",
              "      <td>NaN</td>\n",
              "      <td>NaN</td>\n",
              "    </tr>\n",
              "    <tr>\n",
              "      <th>...</th>\n",
              "      <td>...</td>\n",
              "      <td>...</td>\n",
              "      <td>...</td>\n",
              "      <td>...</td>\n",
              "      <td>...</td>\n",
              "      <td>...</td>\n",
              "      <td>...</td>\n",
              "      <td>...</td>\n",
              "      <td>...</td>\n",
              "      <td>...</td>\n",
              "      <td>...</td>\n",
              "      <td>...</td>\n",
              "      <td>...</td>\n",
              "      <td>...</td>\n",
              "      <td>...</td>\n",
              "      <td>...</td>\n",
              "    </tr>\n",
              "    <tr>\n",
              "      <th>29526</th>\n",
              "      <td>Visakhapatnam</td>\n",
              "      <td>2020-06-27</td>\n",
              "      <td>15.02</td>\n",
              "      <td>50.94</td>\n",
              "      <td>7.68</td>\n",
              "      <td>25.06</td>\n",
              "      <td>19.54</td>\n",
              "      <td>12.47</td>\n",
              "      <td>0.47</td>\n",
              "      <td>8.55</td>\n",
              "      <td>23.30</td>\n",
              "      <td>2.24</td>\n",
              "      <td>12.07</td>\n",
              "      <td>0.73</td>\n",
              "      <td>41.0</td>\n",
              "      <td>Good</td>\n",
              "    </tr>\n",
              "    <tr>\n",
              "      <th>29527</th>\n",
              "      <td>Visakhapatnam</td>\n",
              "      <td>2020-06-28</td>\n",
              "      <td>24.38</td>\n",
              "      <td>74.09</td>\n",
              "      <td>3.42</td>\n",
              "      <td>26.06</td>\n",
              "      <td>16.53</td>\n",
              "      <td>11.99</td>\n",
              "      <td>0.52</td>\n",
              "      <td>12.72</td>\n",
              "      <td>30.14</td>\n",
              "      <td>0.74</td>\n",
              "      <td>2.21</td>\n",
              "      <td>0.38</td>\n",
              "      <td>70.0</td>\n",
              "      <td>Satisfactory</td>\n",
              "    </tr>\n",
              "    <tr>\n",
              "      <th>29528</th>\n",
              "      <td>Visakhapatnam</td>\n",
              "      <td>2020-06-29</td>\n",
              "      <td>22.91</td>\n",
              "      <td>65.73</td>\n",
              "      <td>3.45</td>\n",
              "      <td>29.53</td>\n",
              "      <td>18.33</td>\n",
              "      <td>10.71</td>\n",
              "      <td>0.48</td>\n",
              "      <td>8.42</td>\n",
              "      <td>30.96</td>\n",
              "      <td>0.01</td>\n",
              "      <td>0.01</td>\n",
              "      <td>0.00</td>\n",
              "      <td>68.0</td>\n",
              "      <td>Satisfactory</td>\n",
              "    </tr>\n",
              "    <tr>\n",
              "      <th>29529</th>\n",
              "      <td>Visakhapatnam</td>\n",
              "      <td>2020-06-30</td>\n",
              "      <td>16.64</td>\n",
              "      <td>49.97</td>\n",
              "      <td>4.05</td>\n",
              "      <td>29.26</td>\n",
              "      <td>18.80</td>\n",
              "      <td>10.03</td>\n",
              "      <td>0.52</td>\n",
              "      <td>9.84</td>\n",
              "      <td>28.30</td>\n",
              "      <td>0.00</td>\n",
              "      <td>0.00</td>\n",
              "      <td>0.00</td>\n",
              "      <td>54.0</td>\n",
              "      <td>Satisfactory</td>\n",
              "    </tr>\n",
              "    <tr>\n",
              "      <th>29530</th>\n",
              "      <td>Visakhapatnam</td>\n",
              "      <td>2020-07-01</td>\n",
              "      <td>15.00</td>\n",
              "      <td>66.00</td>\n",
              "      <td>0.40</td>\n",
              "      <td>26.85</td>\n",
              "      <td>14.05</td>\n",
              "      <td>5.20</td>\n",
              "      <td>0.59</td>\n",
              "      <td>2.10</td>\n",
              "      <td>17.05</td>\n",
              "      <td>NaN</td>\n",
              "      <td>NaN</td>\n",
              "      <td>NaN</td>\n",
              "      <td>50.0</td>\n",
              "      <td>Good</td>\n",
              "    </tr>\n",
              "  </tbody>\n",
              "</table>\n",
              "<p>29531 rows × 16 columns</p>\n",
              "</div>"
            ],
            "text/plain": [
              "                City        Date  PM2.5   PM10     NO    NO2    NOx    NH3  \\\n",
              "0          Ahmedabad  2015-01-01    NaN    NaN   0.92  18.22  17.15    NaN   \n",
              "1          Ahmedabad  2015-01-02    NaN    NaN   0.97  15.69  16.46    NaN   \n",
              "2          Ahmedabad  2015-01-03    NaN    NaN  17.40  19.30  29.70    NaN   \n",
              "3          Ahmedabad  2015-01-04    NaN    NaN   1.70  18.48  17.97    NaN   \n",
              "4          Ahmedabad  2015-01-05    NaN    NaN  22.10  21.42  37.76    NaN   \n",
              "...              ...         ...    ...    ...    ...    ...    ...    ...   \n",
              "29526  Visakhapatnam  2020-06-27  15.02  50.94   7.68  25.06  19.54  12.47   \n",
              "29527  Visakhapatnam  2020-06-28  24.38  74.09   3.42  26.06  16.53  11.99   \n",
              "29528  Visakhapatnam  2020-06-29  22.91  65.73   3.45  29.53  18.33  10.71   \n",
              "29529  Visakhapatnam  2020-06-30  16.64  49.97   4.05  29.26  18.80  10.03   \n",
              "29530  Visakhapatnam  2020-07-01  15.00  66.00   0.40  26.85  14.05   5.20   \n",
              "\n",
              "          CO    SO2      O3  Benzene  Toluene  Xylene   AQI    AQI_Bucket  \n",
              "0       0.92  27.64  133.36     0.00     0.02    0.00   NaN           NaN  \n",
              "1       0.97  24.55   34.06     3.68     5.50    3.77   NaN           NaN  \n",
              "2      17.40  29.07   30.70     6.80    16.40    2.25   NaN           NaN  \n",
              "3       1.70  18.59   36.08     4.43    10.14    1.00   NaN           NaN  \n",
              "4      22.10  39.33   39.31     7.01    18.89    2.78   NaN           NaN  \n",
              "...      ...    ...     ...      ...      ...     ...   ...           ...  \n",
              "29526   0.47   8.55   23.30     2.24    12.07    0.73  41.0          Good  \n",
              "29527   0.52  12.72   30.14     0.74     2.21    0.38  70.0  Satisfactory  \n",
              "29528   0.48   8.42   30.96     0.01     0.01    0.00  68.0  Satisfactory  \n",
              "29529   0.52   9.84   28.30     0.00     0.00    0.00  54.0  Satisfactory  \n",
              "29530   0.59   2.10   17.05      NaN      NaN     NaN  50.0          Good  \n",
              "\n",
              "[29531 rows x 16 columns]"
            ]
          },
          "metadata": {
            "tags": []
          },
          "execution_count": 12
        }
      ]
    },
    {
      "cell_type": "code",
      "metadata": {
        "id": "s2ItSq76QNb0",
        "outputId": "0f1de750-f2ea-49dd-e9ca-b2fb71f78bb6"
      },
      "source": [
        "clone_df = indair_df[['City','AQI','Date','AQI_Bucket']]\n",
        "clone_df"
      ],
      "execution_count": null,
      "outputs": [
        {
          "output_type": "execute_result",
          "data": {
            "text/html": [
              "<div>\n",
              "<style scoped>\n",
              "    .dataframe tbody tr th:only-of-type {\n",
              "        vertical-align: middle;\n",
              "    }\n",
              "\n",
              "    .dataframe tbody tr th {\n",
              "        vertical-align: top;\n",
              "    }\n",
              "\n",
              "    .dataframe thead th {\n",
              "        text-align: right;\n",
              "    }\n",
              "</style>\n",
              "<table border=\"1\" class=\"dataframe\">\n",
              "  <thead>\n",
              "    <tr style=\"text-align: right;\">\n",
              "      <th></th>\n",
              "      <th>City</th>\n",
              "      <th>AQI</th>\n",
              "      <th>Date</th>\n",
              "      <th>AQI_Bucket</th>\n",
              "    </tr>\n",
              "  </thead>\n",
              "  <tbody>\n",
              "    <tr>\n",
              "      <th>0</th>\n",
              "      <td>Ahmedabad</td>\n",
              "      <td>NaN</td>\n",
              "      <td>2015-01-01</td>\n",
              "      <td>NaN</td>\n",
              "    </tr>\n",
              "    <tr>\n",
              "      <th>1</th>\n",
              "      <td>Ahmedabad</td>\n",
              "      <td>NaN</td>\n",
              "      <td>2015-01-02</td>\n",
              "      <td>NaN</td>\n",
              "    </tr>\n",
              "    <tr>\n",
              "      <th>2</th>\n",
              "      <td>Ahmedabad</td>\n",
              "      <td>NaN</td>\n",
              "      <td>2015-01-03</td>\n",
              "      <td>NaN</td>\n",
              "    </tr>\n",
              "    <tr>\n",
              "      <th>3</th>\n",
              "      <td>Ahmedabad</td>\n",
              "      <td>NaN</td>\n",
              "      <td>2015-01-04</td>\n",
              "      <td>NaN</td>\n",
              "    </tr>\n",
              "    <tr>\n",
              "      <th>4</th>\n",
              "      <td>Ahmedabad</td>\n",
              "      <td>NaN</td>\n",
              "      <td>2015-01-05</td>\n",
              "      <td>NaN</td>\n",
              "    </tr>\n",
              "    <tr>\n",
              "      <th>...</th>\n",
              "      <td>...</td>\n",
              "      <td>...</td>\n",
              "      <td>...</td>\n",
              "      <td>...</td>\n",
              "    </tr>\n",
              "    <tr>\n",
              "      <th>29526</th>\n",
              "      <td>Visakhapatnam</td>\n",
              "      <td>41.0</td>\n",
              "      <td>2020-06-27</td>\n",
              "      <td>Good</td>\n",
              "    </tr>\n",
              "    <tr>\n",
              "      <th>29527</th>\n",
              "      <td>Visakhapatnam</td>\n",
              "      <td>70.0</td>\n",
              "      <td>2020-06-28</td>\n",
              "      <td>Satisfactory</td>\n",
              "    </tr>\n",
              "    <tr>\n",
              "      <th>29528</th>\n",
              "      <td>Visakhapatnam</td>\n",
              "      <td>68.0</td>\n",
              "      <td>2020-06-29</td>\n",
              "      <td>Satisfactory</td>\n",
              "    </tr>\n",
              "    <tr>\n",
              "      <th>29529</th>\n",
              "      <td>Visakhapatnam</td>\n",
              "      <td>54.0</td>\n",
              "      <td>2020-06-30</td>\n",
              "      <td>Satisfactory</td>\n",
              "    </tr>\n",
              "    <tr>\n",
              "      <th>29530</th>\n",
              "      <td>Visakhapatnam</td>\n",
              "      <td>50.0</td>\n",
              "      <td>2020-07-01</td>\n",
              "      <td>Good</td>\n",
              "    </tr>\n",
              "  </tbody>\n",
              "</table>\n",
              "<p>29531 rows × 4 columns</p>\n",
              "</div>"
            ],
            "text/plain": [
              "                City   AQI        Date    AQI_Bucket\n",
              "0          Ahmedabad   NaN  2015-01-01           NaN\n",
              "1          Ahmedabad   NaN  2015-01-02           NaN\n",
              "2          Ahmedabad   NaN  2015-01-03           NaN\n",
              "3          Ahmedabad   NaN  2015-01-04           NaN\n",
              "4          Ahmedabad   NaN  2015-01-05           NaN\n",
              "...              ...   ...         ...           ...\n",
              "29526  Visakhapatnam  41.0  2020-06-27          Good\n",
              "29527  Visakhapatnam  70.0  2020-06-28  Satisfactory\n",
              "29528  Visakhapatnam  68.0  2020-06-29  Satisfactory\n",
              "29529  Visakhapatnam  54.0  2020-06-30  Satisfactory\n",
              "29530  Visakhapatnam  50.0  2020-07-01          Good\n",
              "\n",
              "[29531 rows x 4 columns]"
            ]
          },
          "metadata": {
            "tags": []
          },
          "execution_count": 13
        }
      ]
    },
    {
      "cell_type": "code",
      "metadata": {
        "id": "3IoeAxtBQNb3",
        "outputId": "8939cb3d-2849-48e0-aef3-c6869281a236"
      },
      "source": [
        "clone_df['Date'] = pd.to_datetime(clone_df['Date'])\n",
        "clone_df['Year'] = pd.DatetimeIndex(clone_df.Date).year\n",
        "clone_df['Month'] = pd.DatetimeIndex(clone_df.Date).month\n",
        "clone_df['Day'] = pd.DatetimeIndex(clone_df.Date).day\n",
        "clone_df['Weekday'] = pd.DatetimeIndex(clone_df.Date).weekday\n"
      ],
      "execution_count": null,
      "outputs": [
        {
          "output_type": "stream",
          "text": [
            "<ipython-input-14-098044cffd81>:1: SettingWithCopyWarning: \n",
            "A value is trying to be set on a copy of a slice from a DataFrame.\n",
            "Try using .loc[row_indexer,col_indexer] = value instead\n",
            "\n",
            "See the caveats in the documentation: https://pandas.pydata.org/pandas-docs/stable/user_guide/indexing.html#returning-a-view-versus-a-copy\n",
            "  clone_df['Date'] = pd.to_datetime(clone_df['Date'])\n",
            "<ipython-input-14-098044cffd81>:2: SettingWithCopyWarning: \n",
            "A value is trying to be set on a copy of a slice from a DataFrame.\n",
            "Try using .loc[row_indexer,col_indexer] = value instead\n",
            "\n",
            "See the caveats in the documentation: https://pandas.pydata.org/pandas-docs/stable/user_guide/indexing.html#returning-a-view-versus-a-copy\n",
            "  clone_df['Year'] = pd.DatetimeIndex(clone_df.Date).year\n",
            "<ipython-input-14-098044cffd81>:3: SettingWithCopyWarning: \n",
            "A value is trying to be set on a copy of a slice from a DataFrame.\n",
            "Try using .loc[row_indexer,col_indexer] = value instead\n",
            "\n",
            "See the caveats in the documentation: https://pandas.pydata.org/pandas-docs/stable/user_guide/indexing.html#returning-a-view-versus-a-copy\n",
            "  clone_df['Month'] = pd.DatetimeIndex(clone_df.Date).month\n",
            "<ipython-input-14-098044cffd81>:4: SettingWithCopyWarning: \n",
            "A value is trying to be set on a copy of a slice from a DataFrame.\n",
            "Try using .loc[row_indexer,col_indexer] = value instead\n",
            "\n",
            "See the caveats in the documentation: https://pandas.pydata.org/pandas-docs/stable/user_guide/indexing.html#returning-a-view-versus-a-copy\n",
            "  clone_df['Day'] = pd.DatetimeIndex(clone_df.Date).day\n",
            "<ipython-input-14-098044cffd81>:5: SettingWithCopyWarning: \n",
            "A value is trying to be set on a copy of a slice from a DataFrame.\n",
            "Try using .loc[row_indexer,col_indexer] = value instead\n",
            "\n",
            "See the caveats in the documentation: https://pandas.pydata.org/pandas-docs/stable/user_guide/indexing.html#returning-a-view-versus-a-copy\n",
            "  clone_df['Weekday'] = pd.DatetimeIndex(clone_df.Date).weekday\n"
          ],
          "name": "stderr"
        }
      ]
    },
    {
      "cell_type": "code",
      "metadata": {
        "id": "j56h4qx2QNb5",
        "outputId": "4c737cf3-592b-431f-826b-4100818437ec"
      },
      "source": [
        "clone_df.columns"
      ],
      "execution_count": null,
      "outputs": [
        {
          "output_type": "execute_result",
          "data": {
            "text/plain": [
              "Index(['City', 'AQI', 'Date', 'AQI_Bucket', 'Year', 'Month', 'Day', 'Weekday'], dtype='object')"
            ]
          },
          "metadata": {
            "tags": []
          },
          "execution_count": 15
        }
      ]
    },
    {
      "cell_type": "code",
      "metadata": {
        "id": "PV7x1saJQNb8",
        "outputId": "535c55f9-3706-4135-f88e-31a1ef2f3de4"
      },
      "source": [
        "clone_df.shape"
      ],
      "execution_count": null,
      "outputs": [
        {
          "output_type": "execute_result",
          "data": {
            "text/plain": [
              "(29531, 8)"
            ]
          },
          "metadata": {
            "tags": []
          },
          "execution_count": 16
        }
      ]
    },
    {
      "cell_type": "code",
      "metadata": {
        "id": "K5-S6tKAQNb_",
        "outputId": "f5511ca8-80b9-4b79-e8c1-2dde16dbe4ec"
      },
      "source": [
        "clone_df.info()"
      ],
      "execution_count": null,
      "outputs": [
        {
          "output_type": "stream",
          "text": [
            "<class 'pandas.core.frame.DataFrame'>\n",
            "RangeIndex: 29531 entries, 0 to 29530\n",
            "Data columns (total 8 columns):\n",
            " #   Column      Non-Null Count  Dtype         \n",
            "---  ------      --------------  -----         \n",
            " 0   City        29531 non-null  object        \n",
            " 1   AQI         24850 non-null  float64       \n",
            " 2   Date        29531 non-null  datetime64[ns]\n",
            " 3   AQI_Bucket  24850 non-null  object        \n",
            " 4   Year        29531 non-null  int64         \n",
            " 5   Month       29531 non-null  int64         \n",
            " 6   Day         29531 non-null  int64         \n",
            " 7   Weekday     29531 non-null  int64         \n",
            "dtypes: datetime64[ns](1), float64(1), int64(4), object(2)\n",
            "memory usage: 1.8+ MB\n"
          ],
          "name": "stdout"
        }
      ]
    },
    {
      "cell_type": "code",
      "metadata": {
        "id": "TjweQLJAQNcD",
        "outputId": "22a256c2-98e6-4324-e4d6-2087e6674d8e"
      },
      "source": [
        "clone_df.describe()"
      ],
      "execution_count": null,
      "outputs": [
        {
          "output_type": "execute_result",
          "data": {
            "text/html": [
              "<div>\n",
              "<style scoped>\n",
              "    .dataframe tbody tr th:only-of-type {\n",
              "        vertical-align: middle;\n",
              "    }\n",
              "\n",
              "    .dataframe tbody tr th {\n",
              "        vertical-align: top;\n",
              "    }\n",
              "\n",
              "    .dataframe thead th {\n",
              "        text-align: right;\n",
              "    }\n",
              "</style>\n",
              "<table border=\"1\" class=\"dataframe\">\n",
              "  <thead>\n",
              "    <tr style=\"text-align: right;\">\n",
              "      <th></th>\n",
              "      <th>AQI</th>\n",
              "      <th>Year</th>\n",
              "      <th>Month</th>\n",
              "      <th>Day</th>\n",
              "      <th>Weekday</th>\n",
              "    </tr>\n",
              "  </thead>\n",
              "  <tbody>\n",
              "    <tr>\n",
              "      <th>count</th>\n",
              "      <td>24850.000000</td>\n",
              "      <td>29531.000000</td>\n",
              "      <td>29531.000000</td>\n",
              "      <td>29531.000000</td>\n",
              "      <td>29531.000000</td>\n",
              "    </tr>\n",
              "    <tr>\n",
              "      <th>mean</th>\n",
              "      <td>166.463581</td>\n",
              "      <td>2017.887914</td>\n",
              "      <td>6.267143</td>\n",
              "      <td>15.762758</td>\n",
              "      <td>2.998747</td>\n",
              "    </tr>\n",
              "    <tr>\n",
              "      <th>std</th>\n",
              "      <td>140.696585</td>\n",
              "      <td>1.533783</td>\n",
              "      <td>3.431974</td>\n",
              "      <td>8.804537</td>\n",
              "      <td>2.000110</td>\n",
              "    </tr>\n",
              "    <tr>\n",
              "      <th>min</th>\n",
              "      <td>13.000000</td>\n",
              "      <td>2015.000000</td>\n",
              "      <td>1.000000</td>\n",
              "      <td>1.000000</td>\n",
              "      <td>0.000000</td>\n",
              "    </tr>\n",
              "    <tr>\n",
              "      <th>25%</th>\n",
              "      <td>81.000000</td>\n",
              "      <td>2017.000000</td>\n",
              "      <td>3.000000</td>\n",
              "      <td>8.000000</td>\n",
              "      <td>1.000000</td>\n",
              "    </tr>\n",
              "    <tr>\n",
              "      <th>50%</th>\n",
              "      <td>118.000000</td>\n",
              "      <td>2018.000000</td>\n",
              "      <td>6.000000</td>\n",
              "      <td>16.000000</td>\n",
              "      <td>3.000000</td>\n",
              "    </tr>\n",
              "    <tr>\n",
              "      <th>75%</th>\n",
              "      <td>208.000000</td>\n",
              "      <td>2019.000000</td>\n",
              "      <td>9.000000</td>\n",
              "      <td>23.000000</td>\n",
              "      <td>5.000000</td>\n",
              "    </tr>\n",
              "    <tr>\n",
              "      <th>max</th>\n",
              "      <td>2049.000000</td>\n",
              "      <td>2020.000000</td>\n",
              "      <td>12.000000</td>\n",
              "      <td>31.000000</td>\n",
              "      <td>6.000000</td>\n",
              "    </tr>\n",
              "  </tbody>\n",
              "</table>\n",
              "</div>"
            ],
            "text/plain": [
              "                AQI          Year         Month           Day       Weekday\n",
              "count  24850.000000  29531.000000  29531.000000  29531.000000  29531.000000\n",
              "mean     166.463581   2017.887914      6.267143     15.762758      2.998747\n",
              "std      140.696585      1.533783      3.431974      8.804537      2.000110\n",
              "min       13.000000   2015.000000      1.000000      1.000000      0.000000\n",
              "25%       81.000000   2017.000000      3.000000      8.000000      1.000000\n",
              "50%      118.000000   2018.000000      6.000000     16.000000      3.000000\n",
              "75%      208.000000   2019.000000      9.000000     23.000000      5.000000\n",
              "max     2049.000000   2020.000000     12.000000     31.000000      6.000000"
            ]
          },
          "metadata": {
            "tags": []
          },
          "execution_count": 18
        }
      ]
    },
    {
      "cell_type": "code",
      "metadata": {
        "id": "sbzVJeRVQNcF"
      },
      "source": [
        "import jovian"
      ],
      "execution_count": null,
      "outputs": []
    },
    {
      "cell_type": "code",
      "metadata": {
        "id": "gLzjcaenQNcI",
        "outputId": "7f558b33-c541-461f-dc7f-e7c2d9f5756b"
      },
      "source": [
        "jovian.commit()"
      ],
      "execution_count": null,
      "outputs": [
        {
          "output_type": "display_data",
          "data": {
            "application/javascript": [
              "window.require && require([\"base/js/namespace\"],function(Jupyter){Jupyter.notebook.save_checkpoint()})"
            ],
            "text/plain": [
              "<IPython.core.display.Javascript object>"
            ]
          },
          "metadata": {
            "tags": []
          }
        },
        {
          "output_type": "stream",
          "text": [
            "[jovian] Attempting to save notebook..\u001b[0m\n",
            "[jovian] Updating notebook \"krishnasharma1386/india-air-quality\" on https://jovian.ml/\u001b[0m\n",
            "[jovian] Uploading notebook..\u001b[0m\n",
            "[jovian] Capturing environment..\u001b[0m\n",
            "[jovian] Committed successfully! https://jovian.ml/krishnasharma1386/india-air-quality\u001b[0m\n"
          ],
          "name": "stdout"
        },
        {
          "output_type": "execute_result",
          "data": {
            "text/plain": [
              "'https://jovian.ml/krishnasharma1386/india-air-quality'"
            ]
          },
          "metadata": {
            "tags": []
          },
          "execution_count": 20
        }
      ]
    },
    {
      "cell_type": "markdown",
      "metadata": {
        "id": "CaBbr_4_QNcK"
      },
      "source": [
        "## Exploratory Analysis and Visualization\n",
        "\n",
        "**TODO** - write some explanation here.\n",
        "\n"
      ]
    },
    {
      "cell_type": "markdown",
      "metadata": {
        "id": "j_zn55coQNcL"
      },
      "source": [
        "> Instructions (delete this cell)\n",
        "> \n",
        "> - Compute the mean, sum, range and other interesting statistics for numeric columns\n",
        "> - Explore distributions of numeric columns using histograms etc.\n",
        "> - Explore relationship between columns using scatter plots, bar charts etc.\n",
        "> - Make a note of interesting insights from the exploratory analysis"
      ]
    },
    {
      "cell_type": "markdown",
      "metadata": {
        "id": "xB2iLaJUQNcL"
      },
      "source": [
        "Let's begin by importing`matplotlib.pyplot` and `seaborn`."
      ]
    },
    {
      "cell_type": "code",
      "metadata": {
        "id": "ObSEXj2QQNcL"
      },
      "source": [
        "import seaborn as sns\n",
        "import matplotlib\n",
        "import matplotlib.pyplot as plt\n",
        "%matplotlib inline\n",
        "\n",
        "sns.set_style('darkgrid')\n",
        "matplotlib.rcParams['font.size'] = 14\n",
        "matplotlib.rcParams['figure.figsize'] = (9, 5)\n",
        "matplotlib.rcParams['figure.facecolor'] = '#00000000'"
      ],
      "execution_count": null,
      "outputs": []
    },
    {
      "cell_type": "markdown",
      "metadata": {
        "id": "Liq5-rgGQNcO"
      },
      "source": [
        "**TODO** - Explore one or more columns by plotting a graph below, and add some explanation about it"
      ]
    },
    {
      "cell_type": "code",
      "metadata": {
        "id": "KfBG-tpvQNcP",
        "outputId": "fcf9fb1f-0814-4a4d-9b35-73f9c660e99e"
      },
      "source": [
        "clone_df.City.unique()"
      ],
      "execution_count": null,
      "outputs": [
        {
          "output_type": "execute_result",
          "data": {
            "text/plain": [
              "array(['Ahmedabad', 'Aizawl', 'Amaravati', 'Amritsar', 'Bengaluru',\n",
              "       'Bhopal', 'Brajrajnagar', 'Chandigarh', 'Chennai', 'Coimbatore',\n",
              "       'Delhi', 'Ernakulam', 'Gurugram', 'Guwahati', 'Hyderabad',\n",
              "       'Jaipur', 'Jorapokhar', 'Kochi', 'Kolkata', 'Lucknow', 'Mumbai',\n",
              "       'Patna', 'Shillong', 'Talcher', 'Thiruvananthapuram',\n",
              "       'Visakhapatnam'], dtype=object)"
            ]
          },
          "metadata": {
            "tags": []
          },
          "execution_count": 22
        }
      ]
    },
    {
      "cell_type": "code",
      "metadata": {
        "id": "urVb-wHqQNcS",
        "outputId": "3c4becf5-69d1-46eb-c9f9-378c167d8921"
      },
      "source": [
        "clone_df.AQI_Bucket.unique()"
      ],
      "execution_count": null,
      "outputs": [
        {
          "output_type": "execute_result",
          "data": {
            "text/plain": [
              "array([nan, 'Poor', 'Very Poor', 'Severe', 'Moderate', 'Satisfactory',\n",
              "       'Good'], dtype=object)"
            ]
          },
          "metadata": {
            "tags": []
          },
          "execution_count": 23
        }
      ]
    },
    {
      "cell_type": "markdown",
      "metadata": {
        "id": "Sn_bN42BQNcX"
      },
      "source": [
        "**TODO** - Explore one or more columns by plotting a graph below, and add some explanation about it"
      ]
    },
    {
      "cell_type": "code",
      "metadata": {
        "id": "VroKjcIpQNcX",
        "outputId": "76d4cba9-b1d2-4f24-a3af-42eac8acb3ce"
      },
      "source": [
        "plt.hist(clone_df.AQI,bins=np.arange(0,900,100));"
      ],
      "execution_count": null,
      "outputs": [
        {
          "output_type": "display_data",
          "data": {
            "image/png": "[encoded data removed]",
            "text/plain": [
              "<Figure size 648x360 with 1 Axes>"
            ]
          },
          "metadata": {
            "tags": [],
            "needs_background": "light"
          }
        }
      ]
    },
    {
      "cell_type": "markdown",
      "metadata": {
        "id": "-jXAA5-6QNca"
      },
      "source": [
        "**TODO** - Explore one or more columns by plotting a graph below, and add some explanation about it"
      ]
    },
    {
      "cell_type": "code",
      "metadata": {
        "id": "RoCOva4QQNca",
        "outputId": "c6e113a5-930e-4e42-e461-706f0c66a1ef"
      },
      "source": [
        "sev_df  =clone_df[clone_df['AQI_Bucket']== \"Severe\"].groupby(\"City\", as_index=False).count()[['Date', 'City']]\n",
        "sev_df"
      ],
      "execution_count": null,
      "outputs": [
        {
          "output_type": "execute_result",
          "data": {
            "text/html": [
              "<div>\n",
              "<style scoped>\n",
              "    .dataframe tbody tr th:only-of-type {\n",
              "        vertical-align: middle;\n",
              "    }\n",
              "\n",
              "    .dataframe tbody tr th {\n",
              "        vertical-align: top;\n",
              "    }\n",
              "\n",
              "    .dataframe thead th {\n",
              "        text-align: right;\n",
              "    }\n",
              "</style>\n",
              "<table border=\"1\" class=\"dataframe\">\n",
              "  <thead>\n",
              "    <tr style=\"text-align: right;\">\n",
              "      <th></th>\n",
              "      <th>Date</th>\n",
              "      <th>City</th>\n",
              "    </tr>\n",
              "  </thead>\n",
              "  <tbody>\n",
              "    <tr>\n",
              "      <th>0</th>\n",
              "      <td>638</td>\n",
              "      <td>Ahmedabad</td>\n",
              "    </tr>\n",
              "    <tr>\n",
              "      <th>1</th>\n",
              "      <td>7</td>\n",
              "      <td>Amritsar</td>\n",
              "    </tr>\n",
              "    <tr>\n",
              "      <th>2</th>\n",
              "      <td>6</td>\n",
              "      <td>Chennai</td>\n",
              "    </tr>\n",
              "    <tr>\n",
              "      <th>3</th>\n",
              "      <td>239</td>\n",
              "      <td>Delhi</td>\n",
              "    </tr>\n",
              "    <tr>\n",
              "      <th>4</th>\n",
              "      <td>95</td>\n",
              "      <td>Gurugram</td>\n",
              "    </tr>\n",
              "    <tr>\n",
              "      <th>5</th>\n",
              "      <td>5</td>\n",
              "      <td>Guwahati</td>\n",
              "    </tr>\n",
              "    <tr>\n",
              "      <th>6</th>\n",
              "      <td>7</td>\n",
              "      <td>Hyderabad</td>\n",
              "    </tr>\n",
              "    <tr>\n",
              "      <th>7</th>\n",
              "      <td>2</td>\n",
              "      <td>Jaipur</td>\n",
              "    </tr>\n",
              "    <tr>\n",
              "      <th>8</th>\n",
              "      <td>18</td>\n",
              "      <td>Jorapokhar</td>\n",
              "    </tr>\n",
              "    <tr>\n",
              "      <th>9</th>\n",
              "      <td>13</td>\n",
              "      <td>Kolkata</td>\n",
              "    </tr>\n",
              "    <tr>\n",
              "      <th>10</th>\n",
              "      <td>110</td>\n",
              "      <td>Lucknow</td>\n",
              "    </tr>\n",
              "    <tr>\n",
              "      <th>11</th>\n",
              "      <td>174</td>\n",
              "      <td>Patna</td>\n",
              "    </tr>\n",
              "    <tr>\n",
              "      <th>12</th>\n",
              "      <td>24</td>\n",
              "      <td>Talcher</td>\n",
              "    </tr>\n",
              "  </tbody>\n",
              "</table>\n",
              "</div>"
            ],
            "text/plain": [
              "    Date        City\n",
              "0    638   Ahmedabad\n",
              "1      7    Amritsar\n",
              "2      6     Chennai\n",
              "3    239       Delhi\n",
              "4     95    Gurugram\n",
              "5      5    Guwahati\n",
              "6      7   Hyderabad\n",
              "7      2      Jaipur\n",
              "8     18  Jorapokhar\n",
              "9     13     Kolkata\n",
              "10   110     Lucknow\n",
              "11   174       Patna\n",
              "12    24     Talcher"
            ]
          },
          "metadata": {
            "tags": []
          },
          "execution_count": 25
        }
      ]
    },
    {
      "cell_type": "code",
      "metadata": {
        "id": "7F7yD3ZjQNcd",
        "outputId": "c737f0ef-b5c9-4db0-dabb-24b258336bff"
      },
      "source": [
        "plt.figure(figsize=(25,10))\n",
        "plt.xlabel('Cities',size=25)\n",
        "plt.xticks(rotation=70)\n",
        "plt.ylabel('AQI',size=23)\n",
        "sns.barplot('City','AQI', data=clone_df);"
      ],
      "execution_count": null,
      "outputs": [
        {
          "output_type": "display_data",
          "data": {
            "image/png": "[encoded data removed]",
            "text/plain": [
              "<Figure size 1800x720 with 1 Axes>"
            ]
          },
          "metadata": {
            "tags": [],
            "needs_background": "light"
          }
        }
      ]
    },
    {
      "cell_type": "markdown",
      "metadata": {
        "id": "wXUrTuQfQNcf"
      },
      "source": [
        "Here Aizawl has the least AQI average while Ahmedabad has the highest."
      ]
    },
    {
      "cell_type": "markdown",
      "metadata": {
        "id": "15X78oUMQNcf"
      },
      "source": [
        "Let us save and upload our work to Jovian before continuing"
      ]
    },
    {
      "cell_type": "code",
      "metadata": {
        "id": "mo4kbaYAQNcg"
      },
      "source": [
        "import jovian"
      ],
      "execution_count": null,
      "outputs": []
    },
    {
      "cell_type": "code",
      "metadata": {
        "id": "-dy8lxOnQNcj",
        "outputId": "9306c484-039f-40ef-e8a0-1561486a4aa2"
      },
      "source": [
        "jovian.commit()"
      ],
      "execution_count": null,
      "outputs": [
        {
          "output_type": "display_data",
          "data": {
            "application/javascript": [
              "window.require && require([\"base/js/namespace\"],function(Jupyter){Jupyter.notebook.save_checkpoint()})"
            ],
            "text/plain": [
              "<IPython.core.display.Javascript object>"
            ]
          },
          "metadata": {
            "tags": []
          }
        },
        {
          "output_type": "stream",
          "text": [
            "[jovian] Attempting to save notebook..\u001b[0m\n",
            "[jovian] Updating notebook \"krishnasharma1386/india-air-quality\" on https://jovian.ml/\u001b[0m\n",
            "[jovian] Uploading notebook..\u001b[0m\n",
            "[jovian] Capturing environment..\u001b[0m\n",
            "[jovian] Committed successfully! https://jovian.ml/krishnasharma1386/india-air-quality\u001b[0m\n"
          ],
          "name": "stdout"
        },
        {
          "output_type": "execute_result",
          "data": {
            "text/plain": [
              "'https://jovian.ml/krishnasharma1386/india-air-quality'"
            ]
          },
          "metadata": {
            "tags": []
          },
          "execution_count": 28
        }
      ]
    },
    {
      "cell_type": "markdown",
      "metadata": {
        "id": "EtE_l6KmQNco"
      },
      "source": [
        "## Asking and Answering Questions\n",
        "\n",
        "TODO - write some explanation here.\n",
        "\n"
      ]
    },
    {
      "cell_type": "markdown",
      "metadata": {
        "id": "oI_n3KR8QNcp"
      },
      "source": [
        "> Instructions (delete this cell)\n",
        ">\n",
        "> - Ask at least 5 interesting questions about your dataset\n",
        "> - Answer the questions either by computing the results using Numpy/Pandas or by plotting graphs using Matplotlib/Seaborn\n",
        "> - Create new columns, merge multiple dataset and perform grouping/aggregation wherever necessary\n",
        "> - Wherever you're using a library function from Pandas/Numpy/Matplotlib etc. explain briefly what it does\n",
        "\n"
      ]
    },
    {
      "cell_type": "markdown",
      "metadata": {
        "id": "tWpwF-tuQNcp"
      },
      "source": [
        "#### Q1:  Which are top 10 city had the minimum days of 'severe' air quality in India?"
      ]
    },
    {
      "cell_type": "code",
      "metadata": {
        "id": "X83mNDQTQNcq",
        "outputId": "59f8a4ad-309a-4219-f044-dc8dee779a70"
      },
      "source": [
        "less_df =  sev_df.sort_values('Date', ascending = True).head(10)\n",
        "less_df"
      ],
      "execution_count": null,
      "outputs": [
        {
          "output_type": "execute_result",
          "data": {
            "text/html": [
              "<div>\n",
              "<style scoped>\n",
              "    .dataframe tbody tr th:only-of-type {\n",
              "        vertical-align: middle;\n",
              "    }\n",
              "\n",
              "    .dataframe tbody tr th {\n",
              "        vertical-align: top;\n",
              "    }\n",
              "\n",
              "    .dataframe thead th {\n",
              "        text-align: right;\n",
              "    }\n",
              "</style>\n",
              "<table border=\"1\" class=\"dataframe\">\n",
              "  <thead>\n",
              "    <tr style=\"text-align: right;\">\n",
              "      <th></th>\n",
              "      <th>Date</th>\n",
              "      <th>City</th>\n",
              "    </tr>\n",
              "  </thead>\n",
              "  <tbody>\n",
              "    <tr>\n",
              "      <th>7</th>\n",
              "      <td>2</td>\n",
              "      <td>Jaipur</td>\n",
              "    </tr>\n",
              "    <tr>\n",
              "      <th>5</th>\n",
              "      <td>5</td>\n",
              "      <td>Guwahati</td>\n",
              "    </tr>\n",
              "    <tr>\n",
              "      <th>2</th>\n",
              "      <td>6</td>\n",
              "      <td>Chennai</td>\n",
              "    </tr>\n",
              "    <tr>\n",
              "      <th>1</th>\n",
              "      <td>7</td>\n",
              "      <td>Amritsar</td>\n",
              "    </tr>\n",
              "    <tr>\n",
              "      <th>6</th>\n",
              "      <td>7</td>\n",
              "      <td>Hyderabad</td>\n",
              "    </tr>\n",
              "    <tr>\n",
              "      <th>9</th>\n",
              "      <td>13</td>\n",
              "      <td>Kolkata</td>\n",
              "    </tr>\n",
              "    <tr>\n",
              "      <th>8</th>\n",
              "      <td>18</td>\n",
              "      <td>Jorapokhar</td>\n",
              "    </tr>\n",
              "    <tr>\n",
              "      <th>12</th>\n",
              "      <td>24</td>\n",
              "      <td>Talcher</td>\n",
              "    </tr>\n",
              "    <tr>\n",
              "      <th>4</th>\n",
              "      <td>95</td>\n",
              "      <td>Gurugram</td>\n",
              "    </tr>\n",
              "    <tr>\n",
              "      <th>10</th>\n",
              "      <td>110</td>\n",
              "      <td>Lucknow</td>\n",
              "    </tr>\n",
              "  </tbody>\n",
              "</table>\n",
              "</div>"
            ],
            "text/plain": [
              "    Date        City\n",
              "7      2      Jaipur\n",
              "5      5    Guwahati\n",
              "2      6     Chennai\n",
              "1      7    Amritsar\n",
              "6      7   Hyderabad\n",
              "9     13     Kolkata\n",
              "8     18  Jorapokhar\n",
              "12    24     Talcher\n",
              "4     95    Gurugram\n",
              "10   110     Lucknow"
            ]
          },
          "metadata": {
            "tags": []
          },
          "execution_count": 29
        }
      ]
    },
    {
      "cell_type": "code",
      "metadata": {
        "id": "RVXXyKyrQNcs",
        "outputId": "ebc5cfa6-b350-4b8c-95f8-2b107c623069"
      },
      "source": [
        "plt.xlabel('Cities',size=25)\n",
        "plt.xticks(rotation=70)\n",
        "plt.ylabel('Date',size=23)\n",
        "sns.barplot('City', 'Date', hue='City', data=less_df);"
      ],
      "execution_count": null,
      "outputs": [
        {
          "output_type": "display_data",
          "data": {
            "image/png": "[encoded data removed]",
            "text/plain": [
              "<Figure size 648x360 with 1 Axes>"
            ]
          },
          "metadata": {
            "tags": [],
            "needs_background": "light"
          }
        }
      ]
    },
    {
      "cell_type": "markdown",
      "metadata": {
        "id": "NPuktN0lQNcu"
      },
      "source": [
        "***As we can see above Jaipur is minimum days of 'severe' air quality in India.***\n",
        "\n",
        "***so lets go! to Jaipur, after Covid.***"
      ]
    },
    {
      "cell_type": "markdown",
      "metadata": {
        "id": "Xq52CB-VQNcv"
      },
      "source": [
        "#### Q2: On which day Jaipur had the worst air quality?"
      ]
    },
    {
      "cell_type": "code",
      "metadata": {
        "id": "acyJeoUJQNcv",
        "outputId": "64743fe7-d5e4-4935-c5df-f8a035a4071c"
      },
      "source": [
        "jaipur_df = clone_df[clone_df.City == \"Jaipur\"]\n",
        "jaipur_df"
      ],
      "execution_count": null,
      "outputs": [
        {
          "output_type": "execute_result",
          "data": {
            "text/html": [
              "<div>\n",
              "<style scoped>\n",
              "    .dataframe tbody tr th:only-of-type {\n",
              "        vertical-align: middle;\n",
              "    }\n",
              "\n",
              "    .dataframe tbody tr th {\n",
              "        vertical-align: top;\n",
              "    }\n",
              "\n",
              "    .dataframe thead th {\n",
              "        text-align: right;\n",
              "    }\n",
              "</style>\n",
              "<table border=\"1\" class=\"dataframe\">\n",
              "  <thead>\n",
              "    <tr style=\"text-align: right;\">\n",
              "      <th></th>\n",
              "      <th>City</th>\n",
              "      <th>AQI</th>\n",
              "      <th>Date</th>\n",
              "      <th>AQI_Bucket</th>\n",
              "      <th>Year</th>\n",
              "      <th>Month</th>\n",
              "      <th>Day</th>\n",
              "      <th>Weekday</th>\n",
              "    </tr>\n",
              "  </thead>\n",
              "  <tbody>\n",
              "    <tr>\n",
              "      <th>16587</th>\n",
              "      <td>Jaipur</td>\n",
              "      <td>NaN</td>\n",
              "      <td>2017-06-14</td>\n",
              "      <td>NaN</td>\n",
              "      <td>2017</td>\n",
              "      <td>6</td>\n",
              "      <td>14</td>\n",
              "      <td>2</td>\n",
              "    </tr>\n",
              "    <tr>\n",
              "      <th>16588</th>\n",
              "      <td>Jaipur</td>\n",
              "      <td>NaN</td>\n",
              "      <td>2017-06-15</td>\n",
              "      <td>NaN</td>\n",
              "      <td>2017</td>\n",
              "      <td>6</td>\n",
              "      <td>15</td>\n",
              "      <td>3</td>\n",
              "    </tr>\n",
              "    <tr>\n",
              "      <th>16589</th>\n",
              "      <td>Jaipur</td>\n",
              "      <td>NaN</td>\n",
              "      <td>2017-06-16</td>\n",
              "      <td>NaN</td>\n",
              "      <td>2017</td>\n",
              "      <td>6</td>\n",
              "      <td>16</td>\n",
              "      <td>4</td>\n",
              "    </tr>\n",
              "    <tr>\n",
              "      <th>16590</th>\n",
              "      <td>Jaipur</td>\n",
              "      <td>NaN</td>\n",
              "      <td>2017-06-17</td>\n",
              "      <td>NaN</td>\n",
              "      <td>2017</td>\n",
              "      <td>6</td>\n",
              "      <td>17</td>\n",
              "      <td>5</td>\n",
              "    </tr>\n",
              "    <tr>\n",
              "      <th>16591</th>\n",
              "      <td>Jaipur</td>\n",
              "      <td>NaN</td>\n",
              "      <td>2017-06-18</td>\n",
              "      <td>NaN</td>\n",
              "      <td>2017</td>\n",
              "      <td>6</td>\n",
              "      <td>18</td>\n",
              "      <td>6</td>\n",
              "    </tr>\n",
              "    <tr>\n",
              "      <th>...</th>\n",
              "      <td>...</td>\n",
              "      <td>...</td>\n",
              "      <td>...</td>\n",
              "      <td>...</td>\n",
              "      <td>...</td>\n",
              "      <td>...</td>\n",
              "      <td>...</td>\n",
              "      <td>...</td>\n",
              "    </tr>\n",
              "    <tr>\n",
              "      <th>17696</th>\n",
              "      <td>Jaipur</td>\n",
              "      <td>89.0</td>\n",
              "      <td>2020-06-27</td>\n",
              "      <td>Satisfactory</td>\n",
              "      <td>2020</td>\n",
              "      <td>6</td>\n",
              "      <td>27</td>\n",
              "      <td>5</td>\n",
              "    </tr>\n",
              "    <tr>\n",
              "      <th>17697</th>\n",
              "      <td>Jaipur</td>\n",
              "      <td>75.0</td>\n",
              "      <td>2020-06-28</td>\n",
              "      <td>Satisfactory</td>\n",
              "      <td>2020</td>\n",
              "      <td>6</td>\n",
              "      <td>28</td>\n",
              "      <td>6</td>\n",
              "    </tr>\n",
              "    <tr>\n",
              "      <th>17698</th>\n",
              "      <td>Jaipur</td>\n",
              "      <td>69.0</td>\n",
              "      <td>2020-06-29</td>\n",
              "      <td>Satisfactory</td>\n",
              "      <td>2020</td>\n",
              "      <td>6</td>\n",
              "      <td>29</td>\n",
              "      <td>0</td>\n",
              "    </tr>\n",
              "    <tr>\n",
              "      <th>17699</th>\n",
              "      <td>Jaipur</td>\n",
              "      <td>79.0</td>\n",
              "      <td>2020-06-30</td>\n",
              "      <td>Satisfactory</td>\n",
              "      <td>2020</td>\n",
              "      <td>6</td>\n",
              "      <td>30</td>\n",
              "      <td>1</td>\n",
              "    </tr>\n",
              "    <tr>\n",
              "      <th>17700</th>\n",
              "      <td>Jaipur</td>\n",
              "      <td>70.0</td>\n",
              "      <td>2020-07-01</td>\n",
              "      <td>Satisfactory</td>\n",
              "      <td>2020</td>\n",
              "      <td>7</td>\n",
              "      <td>1</td>\n",
              "      <td>2</td>\n",
              "    </tr>\n",
              "  </tbody>\n",
              "</table>\n",
              "<p>1114 rows × 8 columns</p>\n",
              "</div>"
            ],
            "text/plain": [
              "         City   AQI       Date    AQI_Bucket  Year  Month  Day  Weekday\n",
              "16587  Jaipur   NaN 2017-06-14           NaN  2017      6   14        2\n",
              "16588  Jaipur   NaN 2017-06-15           NaN  2017      6   15        3\n",
              "16589  Jaipur   NaN 2017-06-16           NaN  2017      6   16        4\n",
              "16590  Jaipur   NaN 2017-06-17           NaN  2017      6   17        5\n",
              "16591  Jaipur   NaN 2017-06-18           NaN  2017      6   18        6\n",
              "...       ...   ...        ...           ...   ...    ...  ...      ...\n",
              "17696  Jaipur  89.0 2020-06-27  Satisfactory  2020      6   27        5\n",
              "17697  Jaipur  75.0 2020-06-28  Satisfactory  2020      6   28        6\n",
              "17698  Jaipur  69.0 2020-06-29  Satisfactory  2020      6   29        0\n",
              "17699  Jaipur  79.0 2020-06-30  Satisfactory  2020      6   30        1\n",
              "17700  Jaipur  70.0 2020-07-01  Satisfactory  2020      7    1        2\n",
              "\n",
              "[1114 rows x 8 columns]"
            ]
          },
          "metadata": {
            "tags": []
          },
          "execution_count": 31
        }
      ]
    },
    {
      "cell_type": "code",
      "metadata": {
        "id": "Tgr7zLOsQNcx",
        "outputId": "b6349bca-a11d-49ef-bfea-8b6d4a51224c"
      },
      "source": [
        "jaipur_df['AQI'].max()\n",
        "print(\"Jaipur's worst air quaity index: {}\" .format(jaipur_df['AQI'].max()))"
      ],
      "execution_count": null,
      "outputs": [
        {
          "output_type": "stream",
          "text": [
            "Jaipur's worst air quaity index: 457.0\n"
          ],
          "name": "stdout"
        }
      ]
    },
    {
      "cell_type": "code",
      "metadata": {
        "id": "I-daWazTQNc1",
        "outputId": "158bf6c1-2eb4-41b6-8204-634a73c237dc"
      },
      "source": [
        "jaipur_df.loc[jaipur_df['AQI'].idxmax()]"
      ],
      "execution_count": null,
      "outputs": [
        {
          "output_type": "execute_result",
          "data": {
            "text/plain": [
              "City                       Jaipur\n",
              "AQI                           457\n",
              "Date          2019-04-08 00:00:00\n",
              "AQI_Bucket                 Severe\n",
              "Year                         2019\n",
              "Month                           4\n",
              "Day                             8\n",
              "Weekday                         0\n",
              "Name: 17250, dtype: object"
            ]
          },
          "metadata": {
            "tags": []
          },
          "execution_count": 33
        }
      ]
    },
    {
      "cell_type": "markdown",
      "metadata": {
        "id": "85FuQerfQNc4"
      },
      "source": [
        "***On 8th April 2019 Jaipur had the worst air quality which was :457***"
      ]
    },
    {
      "cell_type": "markdown",
      "metadata": {
        "id": "6InGm916QNc5"
      },
      "source": [
        "#### Q3:  Which city had the most days of 'severe' air quality?"
      ]
    },
    {
      "cell_type": "code",
      "metadata": {
        "id": "mkFipac1QNc5",
        "outputId": "6399a498-aef3-4520-cb08-1e87d5a263e6"
      },
      "source": [
        "plt.xlabel('Cities')\n",
        "plt.ylabel('Days')\n",
        "plt.xticks(rotation=45)\n",
        "plt.plot(sev_df.City,sev_df.Date);"
      ],
      "execution_count": null,
      "outputs": [
        {
          "output_type": "display_data",
          "data": {
            "image/png": "[encoded data removed]",
            "text/plain": [
              "<Figure size 648x360 with 1 Axes>"
            ]
          },
          "metadata": {
            "tags": [],
            "needs_background": "light"
          }
        }
      ]
    },
    {
      "cell_type": "markdown",
      "metadata": {
        "id": "j2u7CGtMQNc7"
      },
      "source": [
        "***Here Ahmedabad,Delhi and Patna had the most number of days of severe air quality***"
      ]
    },
    {
      "cell_type": "markdown",
      "metadata": {
        "id": "yt7WvHSzQNc8"
      },
      "source": [
        "#### Q4: How did AQI differ for the three cities with most days of air quality over the last three years?"
      ]
    },
    {
      "cell_type": "code",
      "metadata": {
        "id": "DEUrDN_jQNc8"
      },
      "source": [
        "delhi_df = clone_df[clone_df.City=='Delhi']\n",
        "patna_df = clone_df[clone_df.City=='Patna']\n",
        "ahmedabad_df = clone_df[clone_df.City == \"Ahmedabad\"]"
      ],
      "execution_count": null,
      "outputs": []
    },
    {
      "cell_type": "code",
      "metadata": {
        "id": "QCx_c200QNc_"
      },
      "source": [
        "delhi2018 = delhi_df[delhi_df['Year']==2018]\n",
        "delhi2019 = delhi_df[delhi_df['Year']==2019]\n",
        "delhi2020 = delhi_df[delhi_df['Year']==2020]\n",
        "patna2018 = patna_df[patna_df['Year']==2018]\n",
        "patna2019 = patna_df[patna_df['Year']==2019]\n",
        "patna2020 = patna_df[patna_df['Year']==2020]\n",
        "ahmedabad2018 = ahmedabad_df[ahmedabad_df['Year']==2018]\n",
        "ahmedabad2019 = ahmedabad_df[ahmedabad_df['Year']==2019]\n",
        "ahmedabad2020 = ahmedabad_df[ahmedabad_df['Year']==2020]"
      ],
      "execution_count": null,
      "outputs": []
    },
    {
      "cell_type": "code",
      "metadata": {
        "id": "nWkd299XQNdC"
      },
      "source": [
        "delhi_last3 = [delhi2018.AQI.mean(), delhi2019.AQI.mean(), delhi2020.AQI.mean()]\n",
        "patna_last3 = [patna2018.AQI.mean(), patna2019.AQI.mean(), patna2020.AQI.mean()]\n",
        "ahmedabad_last3 = [ahmedabad2018.AQI.mean(), ahmedabad2019.AQI.mean(), ahmedabad2020.AQI.mean()]"
      ],
      "execution_count": null,
      "outputs": []
    },
    {
      "cell_type": "code",
      "metadata": {
        "id": "_yrL8b9bQNdG",
        "outputId": "f1344a18-f15c-4618-f97a-365150aff2b6"
      },
      "source": [
        "years = [2018,2019,2020]\n",
        "years"
      ],
      "execution_count": null,
      "outputs": [
        {
          "output_type": "execute_result",
          "data": {
            "text/plain": [
              "[2018, 2019, 2020]"
            ]
          },
          "metadata": {
            "tags": []
          },
          "execution_count": 39
        }
      ]
    },
    {
      "cell_type": "code",
      "metadata": {
        "id": "CNUAC0mhQNdL",
        "outputId": "94818d3d-8979-4924-eef2-c6b39adf0a36"
      },
      "source": [
        "sns.set_style('darkgrid')\n",
        "matplotlib.rcParams['font.size'] = 14\n",
        "matplotlib.rcParams['figure.figsize'] = (12, 6)\n",
        "matplotlib.rcParams['figure.facecolor'] = '#00000000'\n",
        "\n",
        "plt.plot(years, ahmedabad_last3, 's-r')\n",
        "plt.plot(years, delhi_last3, 'o--g')\n",
        "plt.plot(years, patna_last3, 'p-.b')\n",
        "\n",
        "plt.xlabel('Years', size=13)\n",
        "plt.ylabel('Average AQI')\n",
        "plt.xticks(np.arange(2018,2021,1))\n",
        "\n",
        "plt.title('Comparing three cities over last 3 years')\n",
        "plt.legend(['Ahmedabad', 'Delhi', 'Patna']);"
      ],
      "execution_count": null,
      "outputs": [
        {
          "output_type": "display_data",
          "data": {
            "image/png": "[encoded data removed]",
            "text/plain": [
              "<Figure size 864x432 with 1 Axes>"
            ]
          },
          "metadata": {
            "tags": [],
            "needs_background": "light"
          }
        }
      ]
    },
    {
      "cell_type": "markdown",
      "metadata": {
        "id": "rxjrUryIQNdO"
      },
      "source": [
        "***Here we can see that Ahmedabad, Delhi and Patna have reduced their AQI in the last three years.***"
      ]
    },
    {
      "cell_type": "markdown",
      "metadata": {
        "id": "FueI0W5XQNdP"
      },
      "source": [
        "#### Q5: How does air quality change from all cities over the years?"
      ]
    },
    {
      "cell_type": "code",
      "metadata": {
        "id": "ngmRK2HpQNdP",
        "outputId": "9b9c3cc3-3665-42d4-a8ec-5dd2ec8116d2"
      },
      "source": [
        "sns.barplot('Year', 'AQI', data=clone_df).set_title(\"Air quality\");"
      ],
      "execution_count": null,
      "outputs": [
        {
          "output_type": "display_data",
          "data": {
            "image/png": "[encoded data removed]",
            "text/plain": [
              "<Figure size 864x432 with 1 Axes>"
            ]
          },
          "metadata": {
            "tags": [],
            "needs_background": "light"
          }
        }
      ]
    },
    {
      "cell_type": "markdown",
      "metadata": {
        "id": "-iJxcRSIQNdR"
      },
      "source": [
        "***We can see a very interesting fact here. The air quality index has been exceptionally low in the year 2020, this may be due to lockdown that was put in place to deal with the Covid epidemic.***"
      ]
    },
    {
      "cell_type": "markdown",
      "metadata": {
        "id": "CXmjdsNbQNdS"
      },
      "source": [
        "Let us save and upload our work to Jovian before continuing."
      ]
    },
    {
      "cell_type": "code",
      "metadata": {
        "id": "id4TsZOeQNdS"
      },
      "source": [
        "import jovian"
      ],
      "execution_count": null,
      "outputs": []
    },
    {
      "cell_type": "code",
      "metadata": {
        "id": "QvUbytuzQNdV",
        "outputId": "39499091-ad72-441a-ce6b-d80d1dd341f8"
      },
      "source": [
        "jovian.commit()"
      ],
      "execution_count": null,
      "outputs": [
        {
          "output_type": "display_data",
          "data": {
            "application/javascript": [
              "window.require && require([\"base/js/namespace\"],function(Jupyter){Jupyter.notebook.save_checkpoint()})"
            ],
            "text/plain": [
              "<IPython.core.display.Javascript object>"
            ]
          },
          "metadata": {
            "tags": []
          }
        },
        {
          "output_type": "stream",
          "text": [
            "[jovian] Attempting to save notebook..\u001b[0m\n",
            "[jovian] Updating notebook \"krishnasharma1386/india-air-quality\" on https://jovian.ml/\u001b[0m\n",
            "[jovian] Uploading notebook..\u001b[0m\n",
            "[jovian] Capturing environment..\u001b[0m\n",
            "[jovian] Committed successfully! https://jovian.ml/krishnasharma1386/india-air-quality\u001b[0m\n"
          ],
          "name": "stdout"
        },
        {
          "output_type": "execute_result",
          "data": {
            "text/plain": [
              "'https://jovian.ml/krishnasharma1386/india-air-quality'"
            ]
          },
          "metadata": {
            "tags": []
          },
          "execution_count": 43
        }
      ]
    },
    {
      "cell_type": "markdown",
      "metadata": {
        "id": "1blxDyYVQNdZ"
      },
      "source": [
        "## Inferences and Conclusion\n",
        "\n",
        "***- From the above, we can say that air pollution in Jaipur is less than other cities in India, and due to COVID, we can see that the lockdown has reduced air pollution due to fewer human activities.***"
      ]
    },
    {
      "cell_type": "code",
      "metadata": {
        "id": "dc_X9cdyQNdZ"
      },
      "source": [
        "import jovian"
      ],
      "execution_count": null,
      "outputs": []
    },
    {
      "cell_type": "code",
      "metadata": {
        "id": "KbLNMFGWQNde",
        "outputId": "6e3e49ac-ae44-447b-d2ca-900a987c743b"
      },
      "source": [
        "jovian.commit()"
      ],
      "execution_count": null,
      "outputs": [
        {
          "output_type": "display_data",
          "data": {
            "application/javascript": [
              "window.require && require([\"base/js/namespace\"],function(Jupyter){Jupyter.notebook.save_checkpoint()})"
            ],
            "text/plain": [
              "<IPython.core.display.Javascript object>"
            ]
          },
          "metadata": {
            "tags": []
          }
        },
        {
          "output_type": "stream",
          "text": [
            "[jovian] Attempting to save notebook..\u001b[0m\n"
          ],
          "name": "stdout"
        }
      ]
    },
    {
      "cell_type": "markdown",
      "metadata": {
        "id": "SE5ztfQ7QNdh"
      },
      "source": [
        "## References and Future Work\n",
        "\n",
        "**TODO** - Write some explanation here: ideas for future projects using this dataset, and links to resources you found useful."
      ]
    },
    {
      "cell_type": "markdown",
      "metadata": {
        "id": "1s5C042RQNdh"
      },
      "source": [
        "> Submission Instructions (delete this cell)\n",
        "> \n",
        "> - Upload your notebook to your Jovian.ml profile using `jovian.commit`.\n",
        "> - **Make a submission here**: https://jovian.ml/learn/data-analysis-with-python-zero-to-pandas/assignment/course-project\n",
        "> - Share your work on the forum: https://jovian.ml/forum/t/course-project-on-exploratory-data-analysis-discuss-and-share-your-work/11684\n",
        "> - Share your work on social media (Twitter, LinkedIn, Telegram etc.) and tag [@JovianML](https://twitter.com/jovianml)\n",
        ">\n",
        "> (Optional) Write a blog post\n",
        "> \n",
        "> - A blog post is a great way to present and showcase your work.  \n",
        "> - Sign up on [Medium.com](https://medium.com) to write a blog post for your project.\n",
        "> - Copy over the explanations from your Jupyter notebook into your blog post, and [embed code cells & outputs](https://medium.com/jovianml/share-and-embed-jupyter-notebooks-online-with-jovian-ml-df709a03064e)\n",
        "> - Check out the Jovian.ml Medium publication for inspiration: https://medium.com/jovianml\n",
        "\n",
        "\n",
        " "
      ]
    },
    {
      "cell_type": "code",
      "metadata": {
        "id": "ww70z4ORQNdh"
      },
      "source": [
        "import jovian"
      ],
      "execution_count": null,
      "outputs": []
    },
    {
      "cell_type": "code",
      "metadata": {
        "scrolled": true,
        "id": "YdueQQMfQNdl"
      },
      "source": [
        "jovian.commit()"
      ],
      "execution_count": null,
      "outputs": []
    }
  ]
}